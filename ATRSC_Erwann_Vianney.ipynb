{
 "cells": [
  {
   "cell_type": "markdown",
   "metadata": {},
   "source": [
    "# ASCENSEUR ET ENTREPÔT AUTOMATIQUE\n",
    "\n",
    "*DE MONICAULT Vianney*\\\n",
    "*ESTEVE Erwann*\n",
    "\n",
    "## Première partie : l'entrepôt"
   ]
  },
  {
   "cell_type": "markdown",
   "metadata": {},
   "source": [
    "### Question 1\n",
    "\n",
    "Chaque requête se réalise en 4 temps : il faut d'abord que l'ascenseur aille à l'étage de chargement du produit (temps $t_1$), ensuite il charge le produit (temps $\\tau$), puis il se déplace vers l'étage de dépot (temps $t_2$) et enfin il décharge le produit (temps $\\tau$). On a $t_2 \\geq 1$, puisque le produit est déplacé d'au moins un étage. De plus, l'espérance d'un voyage (qui passe nécessairement par l'étage 0 que ce soit pour le chargement ou le déchargement) est de $\\frac{L+1}{2}$\n",
    "\n",
    "Une condition nécessaire de stabilité (presque sûre) est $\\rho = \\frac{2\\lambda}{\\mu} \\leq 1$ (les deux types de demande suivent un processus de poisson d'intensité $\\lambda$). Avec les bornes précédentes et par passage à la limite, on peut en déduire la condition nécessaire : $2\\lambda (2\\tau + \\frac{L+1}{2}) \\leq 1$"
   ]
  },
  {
   "cell_type": "markdown",
   "metadata": {},
   "source": [
    "### Question 2\n",
    "\n",
    "En régime permanent, le nombre moyen de tâches effectuées par unité de temps est nécessairement égal (à un coefficient multiplicateur dépendant de l'unité de temps choisi) à la fréquence d'arrivé des tâches $2\\lambda$ (si il est inférieur, les tâches s'accumulent et on n'est pas en régime permanent tandis que l'inverse est impossible puisque la moyenne empirique d'arrivée des tâches tend vers $2\\lambda$ et majore cet indicateur).\n",
    "\n",
    "La loi de Little nous donne l'équivalence entre les indicateurs (i) et (iii) : le critère (iii) calcule $\\bar{q}$, tandis que (iii) est égal à $\\bar{\\lambda}- 2\\tau - \\bar{t_2}$. L'espérance de $t_2$ étant $\\frac{T}{2}$, la loi de Little donne : $(iii) = 2\\lambda*((i) + 2\\tau + \\frac{T}{2})$. \n",
    "\n",
    "$T = 1$ et $\\tau$ est une constante ce qui rend les deux indicateurs équivalents"
   ]
  },
  {
   "cell_type": "markdown",
   "metadata": {},
   "source": [
    "### Question 3"
   ]
  },
  {
   "cell_type": "code",
   "execution_count": 21,
   "metadata": {},
   "outputs": [],
   "source": [
    "import heapq #on utilise une heap pour maintenir l'échéancier ; y place un élément en O(log n), récupère le premier en O(1)\n",
    "\n",
    "#classe Système, contient le système, mais aussi l'échéancier\n",
    "class System(object):\n",
    "     \n",
    "    def __init__(self, policy): # À un système on associe une politique de service. On ne la définit pas ici pour des raisons de modularité. \n",
    "        self.schedule = [] #échéancier\n",
    "        self.queue = Queue() #file d'attente\n",
    "        self.clients = [] #la liste des clients\n",
    "        self.elevator = Elevator() #l'ascenseur\n",
    "        self._policy = policy \n",
    "    \n",
    "    \"\"\"ATTENTION :  vu la façon donc le système a été encodé, l'ordre des étages n'est pas garanti.\n",
    "                    Pour éviter tout problème, la politique (défini hors de la classe) renverra le numéro\n",
    "                    de l'étage, et les méthodes suivantes permettront d'en extraire l'id du premier client\"\"\"\n",
    "    def first_client(self, floor): #permet de récupérer l'id du premier client à un étage donné\n",
    "        i = 0\n",
    "        while (self.queue.attente[i].initial_floor != floor):\n",
    "            print(self.queue.attente[i])\n",
    "            i = i + 1\n",
    "        return i\n",
    "    \n",
    "    def policy(self): #permet d'appeler la politique de service\n",
    "        return self.first_client(self._policy(self))\n",
    "    \n",
    "\n",
    "        \n",
    "class Elevator(object):\n",
    "\n",
    "    def __init__(self):\n",
    "        self.current_floor = 0\n",
    "\n",
    "    def moving_time(self, destination_floor):\n",
    "        return abs(destination_floor - self.current_floor)\n",
    "\n",
    "#classe client        \n",
    "class Client(object):\n",
    "    \n",
    "    def __init__(self, i, initial_floor, destination_floor):\n",
    "        self.id = i #identifiant du client\n",
    "        self.arrival = -1 #vaut -1 avant l'arrivée\n",
    "        self.end_waiting = -1\n",
    "        self.departure = -1 #vaut -1 tant qu'il n'est pas reparti\n",
    "        self.initial_floor = initial_floor\n",
    "        self.destination_floor = destination_floor\n",
    "    \n",
    "    def __str__(self):\n",
    "        return f\"Client {self.id} : arrivée à {self.arrival}, servi à {self.end_waiting}, fini à {self.departure}, étage initial {self.initial_floor}, étage final {self.destination_floor}\"\n",
    "\n",
    "#classe file d'attente\n",
    "        \n",
    "class Queue(object):\n",
    "    \n",
    "    def __init__(self):\n",
    "        self.attente = [] #contient la liste des clients en attente\n",
    "        self.service = [] #contient les clients en service\n",
    "        \n",
    "#classe événement\n",
    "\n",
    "class Event(object):\n",
    "    \n",
    "    def __init__(self, time):\n",
    "        self.time = time\n",
    "        self.type = \"\"\n",
    "\n",
    "#sous-classe \"fin de simulation\"\n",
    "\n",
    "class Event_end(Event):\n",
    "    \n",
    "    def __init__(self, time):\n",
    "        self.time = time\n",
    "        self.type = \"fin\"\n",
    "\n",
    "    def __lt__(self, other): # un problème sur heappop se pose lorsqu'on ajoute pas cela\n",
    "        return self.time < other.time  \n",
    "\n",
    "#sous-classe \"arrivée d'un client\"\n",
    "\n",
    "class Event_arrival(Event):\n",
    "    \n",
    "    def __init__(self, time, initial_floor, destination_floor):\n",
    "        self.time = time\n",
    "        self.type = \"arrival\"\n",
    "        self.initial_floor = initial_floor\n",
    "        self.destination_floor = destination_floor\n",
    "    \n",
    "    def action(self, sys, parameters):\n",
    "        client = Client(len(sys.clients), self.initial_floor, self.destination_floor) #on crée un client\n",
    "        client.arrival = self.time\n",
    "        sys.clients.append(client)  #on initialise et ajoute un client à la liste des clients\n",
    "        \n",
    "        if (len(sys.queue.service) == 0):\n",
    "            client.end_waiting = self.time + abs(client.initial_floor - sys.elevator.current_floor)\n",
    "            sys.queue.service.append(client)\n",
    "            e_service = Event_end_service(client.id, self.time + abs(client.initial_floor - sys.elevator.current_floor) + service_time(client))\n",
    "            heapq.heappush(sys.schedule, (e_service.time, e_service))  # Ne marche que si une fois un service terminé, on peut commencer immédiatement le suivant\n",
    "        else:\n",
    "            sys.queue.attente.append(client) #on ajoute le client à la file d'attente\n",
    "        # on génère le prochain événement d'arrivée\n",
    "        type_of_next_arrival = arrival_type(parameters) \n",
    "        e_next_arrival = Event_arrival(self.time + interarrival_time(parameters), type_of_next_arrival[0], type_of_next_arrival[1])\n",
    "        heapq.heappush(sys.schedule, (e_next_arrival.time, e_next_arrival)) \n",
    "\n",
    "\n",
    "#sous-classe \"départ d'un client\"\n",
    "            \n",
    "class Event_end_service(Event):\n",
    "    \n",
    "    def __init__(self, i, time):\n",
    "        self.time = time\n",
    "        self.type = \"service\"\n",
    "        self.client_id = i\n",
    "    \n",
    "    def action(self, sys, parameters):\n",
    "        i = 0\n",
    "        while (sys.queue.service[i].id != self.client_id):\n",
    "            i = i + 1\n",
    "        client = sys.queue.service.pop(i)\n",
    "               \n",
    "        client.departure = self.time  \n",
    "        sys.elevator.current_floor = client.destination_floor ## pourquoi pas client.initial_floor ?\n",
    "        \n",
    "        if len(sys.queue.attente):\n",
    "            next_client = sys.queue.attente.pop(sys.policy())\n",
    "            next_client.end_waiting = self.time + abs(next_client.initial_floor - sys.elevator.current_floor)\n",
    "            sys.elevator.current_floor = next_client.initial_floor\n",
    "            sys.queue.service.append(next_client)\n",
    "            e_service = Event_end_service(next_client.id, next_client.end_waiting + service_time(next_client, parameters))\n",
    "            heapq.heappush(sys.schedule, (e_service.time, e_service))    \n",
    "\n",
    "    ## Il ne faut pas générer un événement aussi comme dans Event_arrival ?\n",
    "\n",
    "    def __lt__(self, other):# un problème sur heappop se pose lorsqu'on ajoute pas cela\n",
    "        return self.time < other.time  "
   ]
  },
  {
   "cell_type": "code",
   "execution_count": 22,
   "metadata": {},
   "outputs": [],
   "source": [
    "#Création d'un dictionnaire pour modularité\n",
    "parameters = {\n",
    "    \"L\": 7,  # nombre d'étages\n",
    "    \"NBR_SERVERS\": 1,\n",
    "    \"LAMBDA\": 0.03,  # intensité processus d'arrivées : nombre moyen d'arrivées par unité de temps\n",
    "    \"TAU\": 1,\n",
    "    \"NBR_RUNS\": 10,\n",
    "    \"CONFIDENCE_LEVEL\": 95,  # pourcentage donnant le niveau de confiance des résultats\n",
    "    \"TOTAL_DURATION\": 20000,  # durée totale simulée\n",
    "    \"TRANSIENT_DURATION\": 10000,  # temps estimé pour arriver en régime transient\n",
    "}\n",
    "parameters[\"MU\"] = 1.3/parameters[\"NBR_SERVERS\"]"
   ]
  },
  {
   "cell_type": "code",
   "execution_count": 23,
   "metadata": {},
   "outputs": [],
   "source": [
    "import random\n",
    "\n",
    "def interarrival_time(parameters):\n",
    "    return random.expovariate(2*parameters[\"LAMBDA\"])\n",
    "\n",
    "def service_time(client, parameters=parameters): # A MODIFIER\n",
    "    return 2*parameters[\"TAU\"] + abs(client.destination_floor - client.initial_floor)\n",
    "\n",
    "def arrival_type(parameters): # Le type d'arrivée est déterminé par un tirage aléatoire entre un client qui monte (depuis l'étage E/S)\n",
    "                                # et un client qui descend avec probabilité 1/2 (les deux ont un paramètre lambda identique)\n",
    "    nbr_floor = parameters[\"L\"]\n",
    "    if random.random() < 0.5:\n",
    "        return (0,random.randint(1, nbr_floor))\n",
    "    return (random.randint(1, nbr_floor), 0)"
   ]
  },
  {
   "cell_type": "markdown",
   "metadata": {},
   "source": [
    "POLITIQUES :"
   ]
  },
  {
   "cell_type": "code",
   "execution_count": 24,
   "metadata": {},
   "outputs": [],
   "source": [
    "def FIFO(sys):\n",
    "    return sys.queue.attente[0].initial_floor"
   ]
  },
  {
   "cell_type": "code",
   "execution_count": 25,
   "metadata": {},
   "outputs": [
    {
     "name": "stdout",
     "output_type": "stream",
     "text": [
      "Client 0 : arrivée à 0, servi à 0, fini à 9, étage initial 0, étage final 7\n",
      "Client 1 : arrivée à 4.907728614904382, servi à 15, fini à 18, étage initial 1, étage final 0\n",
      "Client 2 : arrivée à 15.55978827571109, servi à 18, fini à 24, étage initial 0, étage final 4\n",
      "Client 3 : arrivée à 17.202471666747016, servi à 28, fini à 32, étage initial 0, étage final 2\n",
      "Client 4 : arrivée à 25.4355206635996, servi à 34, fini à 43, étage initial 0, étage final 7\n",
      "Client 5 : arrivée à 25.470658566935743, servi à 43, fini à 52, étage initial 7, étage final 0\n",
      "Client 6 : arrivée à 52.44752020374743, servi à 52.44752020374743, fini à 60.44752020374743, étage initial 0, étage final 6\n",
      "Client 7 : arrivée à 91.06356238568644, servi à 96.06356238568644, fini à 99.06356238568644, étage initial 1, étage final 0\n",
      "Client 8 : arrivée à 108.53899920099784, servi à 108.53899920099784, fini à 111.53899920099784, étage initial 0, étage final 1\n",
      "Client 9 : arrivée à 127.87073950790146, servi à 128.87073950790148, fini à 134.87073950790148, étage initial 0, étage final 4\n",
      "temps moyen d'attente :  7.678887499749426\n",
      "temps moyen de séjour :  13.661356871918466\n"
     ]
    }
   ],
   "source": [
    "\"Lance la simulation, nombre de réplications donné par NBR_RUNS\"\n",
    "\n",
    "from statistics import mean \n",
    "\n",
    "waiting_times_run = [] #contient le temps moyen d'attente pour chaque run\n",
    "sojourn_times_run = [] #contient le temps moyen de séjour pour chaque run\n",
    "\n",
    "for i in range(parameters[\"NBR_RUNS\"]):\n",
    "    random.seed(i) #permet de la reproductibilité\n",
    "    sys = System(FIFO)\n",
    "    e_fin = Event_end(float(parameters[\"TOTAL_DURATION\"]))\n",
    "    heapq.heappush(sys.schedule, (e_fin.time, e_fin))\n",
    "    e_debut_arrival_type = arrival_type(parameters)\n",
    "    e_debut = Event_arrival(0, e_debut_arrival_type[0], e_debut_arrival_type[1])\n",
    "    heapq.heappush(sys.schedule, (e_debut.time, e_debut))\n",
    "    while sys.schedule[0][1].type != \"fin\":\n",
    "        (time, e) = heapq.heappop(sys.schedule)\n",
    "        e.action(sys, parameters)\n",
    "\n",
    "    #TEST\n",
    "    if (i==1):\n",
    "        for k in range(10):\n",
    "            print(sys.clients[k])\n",
    "    \n",
    "    waiting_times_clients = [] #temps d'attente par client pour le run i courant\n",
    "    sojourn_times_clients = [] #temps de séjour par client pour le run i courant\n",
    "    \n",
    "    for j in range(len(sys.clients)):\n",
    "        #on ne garde que les clients qui sont arrivés en régime permanent et qui ont quitté la file\n",
    "        if sys.clients[j].departure != -1 and sys.clients[j].arrival >= parameters[\"TRANSIENT_DURATION\"]:\n",
    "            waiting_times_clients.append(sys.clients[j].end_waiting - sys.clients[j].arrival)\n",
    "            sojourn_times_clients.append(sys.clients[j].departure - sys.clients[j].arrival)\n",
    "    \n",
    "    waiting_times_run.append(mean(waiting_times_clients))\n",
    "    sojourn_times_run.append(mean(sojourn_times_clients))\n",
    "\n",
    "print(\"temps moyen d'attente : \", mean(waiting_times_run))\n",
    "print(\"temps moyen de séjour : \", mean(sojourn_times_run))"
   ]
  },
  {
   "cell_type": "code",
   "execution_count": 26,
   "metadata": {},
   "outputs": [
    {
     "name": "stdout",
     "output_type": "stream",
     "text": [
      "Temps moyen d'attente : 7.6789\n",
      "Intervalle de confiance à 95%: (6.9069, 8.4508)\n",
      "Temps moyen de séjour : 13.6614\n",
      "Intervalle de confiance à 95%: (12.8570, 14.4657)\n"
     ]
    }
   ],
   "source": [
    "\"Fait l'analyse\"\n",
    "\n",
    "from scipy.stats import t, sem\n",
    "\n",
    "waiting_mean = mean(waiting_times_run)\n",
    "waiting_sample_standard_error = sem(waiting_times_run)\n",
    "confidence_interval = t.interval(parameters[\"CONFIDENCE_LEVEL\"] / 100, parameters[\"NBR_RUNS\"] - 1, waiting_mean, waiting_sample_standard_error)\n",
    "\n",
    "print(\"Temps moyen d'attente : %.4f\" % waiting_mean)\n",
    "print(\"Intervalle de confiance à %d%%: \" % parameters[\"CONFIDENCE_LEVEL\"], end=\"\") ; print(\"(%.4f, %.4f)\" % confidence_interval) \n",
    "\n",
    "sojourn_mean = mean(sojourn_times_run)\n",
    "sojourn_sample_standard_error = sem(sojourn_times_run)\n",
    "confidence_interval = t.interval(parameters[\"CONFIDENCE_LEVEL\"] / 100, parameters[\"NBR_RUNS\"] - 1, sojourn_mean, sojourn_sample_standard_error)\n",
    "\n",
    "print(\"Temps moyen de séjour : %.4f\" % sojourn_mean)\n",
    "print(\"Intervalle de confiance à %d%%: \" % parameters[\"CONFIDENCE_LEVEL\"], end=\"\") ; print(\"(%.4f, %.4f)\" % confidence_interval) "
   ]
  },
  {
   "cell_type": "code",
   "execution_count": 27,
   "metadata": {},
   "outputs": [
    {
     "data": {
      "image/png": "[encoded data removed]",
      "text/plain": [
       "<Figure size 640x480 with 1 Axes>"
      ]
     },
     "metadata": {},
     "output_type": "display_data"
    },
    {
     "name": "stdout",
     "output_type": "stream",
     "text": [
      "Moyenne empirique : 13.6888\n"
     ]
    },
    {
     "data": {
      "image/png": "[encoded data removed]",
      "text/plain": [
       "<Figure size 640x480 with 1 Axes>"
      ]
     },
     "metadata": {},
     "output_type": "display_data"
    }
   ],
   "source": [
    "import matplotlib.pyplot as plt\n",
    "\n",
    "average_sojourn_times = []\n",
    "total = 0\n",
    "\n",
    "sojourn_times_clients = []\n",
    "\n",
    "for j in range(len(sys.clients)):\n",
    "    if sys.clients[j].departure != -1:\n",
    "        sojourn_times_clients.append(sys.clients[j].departure - sys.clients[j].arrival)\n",
    "\n",
    "plt.plot(sojourn_times_clients)\n",
    "plt.show()\n",
    "\n",
    "for j in range(len(sojourn_times_clients)):\n",
    "    total += sojourn_times_clients[j]\n",
    "    average_sojourn_times.append(total / (j+1))\n",
    "\n",
    "print(\"Moyenne empirique : %.4f\" % average_sojourn_times[len(sojourn_times_clients)-1])\n",
    "\n",
    "plt.plot(average_sojourn_times)\n",
    "plt.show()"
   ]
  },
  {
   "cell_type": "markdown",
   "metadata": {},
   "source": [
    "### Question 4\n"
   ]
  },
  {
   "cell_type": "code",
   "execution_count": 28,
   "metadata": {},
   "outputs": [
    {
     "name": "stdout",
     "output_type": "stream",
     "text": [
      "Lambda =  0.01\n",
      "temps moyen d'attente :  3.665038198698613\n",
      "temps moyen de séjour :  9.527175893444287\n",
      "Lambda =  0.03\n",
      "temps moyen d'attente :  7.678887499749426\n",
      "temps moyen de séjour :  13.661356871918466\n",
      "Lambda =  0.05\n",
      "temps moyen d'attente :  28.771453300813906\n",
      "temps moyen de séjour :  34.762738107122864\n",
      "Lambda =  0.07\n",
      "temps moyen d'attente :  2599.258123087319\n",
      "temps moyen de séjour :  2605.2420717038017\n",
      "Lambda =  0.09\n",
      "temps moyen d'attente :  6155.450252417393\n",
      "temps moyen de séjour :  6161.455178574588\n"
     ]
    }
   ],
   "source": [
    "for LAMBDA in [0.01, 0.03, 0.05, 0.07, 0.09]:\n",
    "    waiting_times_run = [] #contient le temps moyen d'attente pour chaque run\n",
    "    sojourn_times_run = [] #contient le temps moyen de séjour pour chaque run\n",
    "    parameters[\"LAMBDA\"] = LAMBDA\n",
    "    print(\"Lambda = \", LAMBDA)\n",
    "    for i in range(parameters[\"NBR_RUNS\"]):\n",
    "        random.seed(i) #permet de la reproductibilité\n",
    "        sys = System(FIFO)\n",
    "        e_fin = Event_end(float(parameters[\"TOTAL_DURATION\"]))\n",
    "        heapq.heappush(sys.schedule, (e_fin.time, e_fin))\n",
    "        e_debut_arrival_type = arrival_type(parameters)\n",
    "        e_debut = Event_arrival(0, e_debut_arrival_type[0], e_debut_arrival_type[1])\n",
    "        heapq.heappush(sys.schedule, (e_debut.time, e_debut))\n",
    "        while sys.schedule[0][1].type != \"fin\":\n",
    "            (time, e) = heapq.heappop(sys.schedule)\n",
    "            e.action(sys, parameters)\n",
    "\n",
    "        #TEST\n",
    "        \"\"\"if (i==1):\n",
    "            for k in range(10):\n",
    "                print(sys.clients[k])\"\"\"\n",
    "        \n",
    "        waiting_times_clients = [] #temps d'attente par client pour le run i courant\n",
    "        sojourn_times_clients = [] #temps de séjour par client pour le run i courant\n",
    "        \n",
    "        for j in range(len(sys.clients)):\n",
    "            #on ne garde que les clients qui sont arrivés en régime permanent et qui ont quitté la file\n",
    "            if sys.clients[j].departure != -1 and sys.clients[j].arrival >= parameters[\"TRANSIENT_DURATION\"]:\n",
    "                waiting_times_clients.append(sys.clients[j].end_waiting - sys.clients[j].arrival)\n",
    "                sojourn_times_clients.append(sys.clients[j].departure - sys.clients[j].arrival)\n",
    "        \n",
    "        waiting_times_run.append(mean(waiting_times_clients))\n",
    "        sojourn_times_run.append(mean(sojourn_times_clients))\n",
    "\n",
    "    print(\"temps moyen d'attente : \", mean(waiting_times_run))\n",
    "    print(\"temps moyen de séjour : \", mean(sojourn_times_run))"
   ]
  },
  {
   "cell_type": "markdown",
   "metadata": {},
   "source": [
    "On observe que pour $\\lambda < 0,05$, il n'y a pas d'engorgements et le temps d'attente est faible. Pour $\\lambda = 0,01$, le temps séparant deux arrivées est bien plus long que celui nécessaire à la prise en charge d'une commande. Les commandes sont donc prises en charge immédiatement. \n",
    "\n",
    "Dès $\\lambda = 0,05$, on peut commencer à apercevoir des engorgements temporaires. Des commandes arrivent alors que d'autres sont en cours de traitement. Mais il n'y a pas d'accumulation de retard et le régime permanent est respecté.\n",
    "\n",
    "On se souvient que la condition de régime permanent était :\n",
    "\n",
    "$2\\lambda (2\\tau + \\frac{L+1}{2}) \\leq 1$\n",
    "\n",
    "Pour nos paramètres, cela correspond donc à $\\lambda<0,833..$\n",
    "\n",
    "On a bien un engorgement avant cette valeur (comme attendu d'une condition nécessaire), pour l'algorithme FIFO la valeur critique de $\\lambda$ semble être dans $[0.05,0.07]$."
   ]
  },
  {
   "cell_type": "markdown",
   "metadata": {},
   "source": [
    "# Partie 2"
   ]
  },
  {
   "cell_type": "code",
   "execution_count": 1,
   "metadata": {},
   "outputs": [],
   "source": [
    "import numpy as np"
   ]
  },
  {
   "cell_type": "markdown",
   "metadata": {},
   "source": [
    "#### Question 6:\n",
    "\n",
    "L'algorithme greedy consiste à toujours aller traiter la requête la plus proche, quel que soit son temps d'arrivée. Les trajets sont donc à chaque fois les plus petits possibles, et le robot ne passe donc jamais devant une requête sans la traiter (lorsqu'il en a la possibilité). En ce sens là, l'algorithme peut offrir de bonnes performances, mais dans certains cas de figures, et sans engorgement, il peut totalement ignorer des requêtes pour un temps très long (ce que ne fait pas le FIFO qui finit toujjours par traiter les requêtes)."
   ]
  },
  {
   "cell_type": "markdown",
   "metadata": {
    "vscode": {
     "languageId": "latex"
    }
   },
   "source": [
    "#### Pseudocode\n",
    "\n",
    "While queue $\\neq \\emptyset$\\\n",
    "-\\>   $f=$ current floor of the elevator\\\n",
    "-\\>   $\\text{client} = \\min_{C \\in \\text{queue}}(\\text{|C-f|}) $\\\n",
    "-\\>   Go to client and serve him"
   ]
  },
  {
   "cell_type": "code",
   "execution_count": null,
   "metadata": {},
   "outputs": [],
   "source": [
    "def greedy(sys):\n",
    "    floors = [client.initial_floor for client in sys.queue.attente]\n",
    "    k = np.argmin([abs(floor - sys.elevator.current_floor) for floor in floors])\n",
    "    return sys.queue.attente[k].initial_floor\n",
    "    "
   ]
  },
  {
   "cell_type": "code",
   "execution_count": null,
   "metadata": {},
   "outputs": [],
   "source": []
  }
 ],
 "metadata": {
  "kernelspec": {
   "display_name": "ISDO",
   "language": "python",
   "name": "python3"
  },
  "language_info": {
   "codemirror_mode": {
    "name": "ipython",
    "version": 3
   },
   "file_extension": ".py",
   "mimetype": "text/x-python",
   "name": "python",
   "nbconvert_exporter": "python",
   "pygments_lexer": "ipython3",
   "version": "3.11.9"
  }
 },
 "nbformat": 4,
 "nbformat_minor": 2
}
